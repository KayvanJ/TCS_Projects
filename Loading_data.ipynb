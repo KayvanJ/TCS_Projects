{
  "nbformat": 4,
  "nbformat_minor": 0,
  "metadata": {
    "colab": {
      "provenance": [],
      "authorship_tag": "ABX9TyOS3vqpmQUsRf298WKkMPst",
      "include_colab_link": true
    },
    "kernelspec": {
      "name": "python3",
      "display_name": "Python 3"
    },
    "language_info": {
      "name": "python"
    }
  },
  "cells": [
    {
      "cell_type": "markdown",
      "metadata": {
        "id": "view-in-github",
        "colab_type": "text"
      },
      "source": [
        "<a href=\"https://colab.research.google.com/github/KayvanJ/TCS_Projects/blob/main/Loading_data.ipynb\" target=\"_parent\"><img src=\"https://colab.research.google.com/assets/colab-badge.svg\" alt=\"Open In Colab\"/></a>"
      ]
    },
    {
      "cell_type": "markdown",
      "source": [
        "# This is how to load data into the notebook"
      ],
      "metadata": {
        "id": "_4Ot00OpzR6H"
      }
    },
    {
      "cell_type": "code",
      "execution_count": null,
      "metadata": {
        "id": "CG_VaJsFG1Os"
      },
      "outputs": [],
      "source": [
        "import pandas as pd\n",
        "from google.colab import files\n",
        "uploaded = files.upload()\n",
        "\n",
        "df = pd.read_csv('/content/water_insecurity_2023.csv', encoding = \"latin-1\")\n",
        "\n",
        "df.head()"
      ]
    },
    {
      "cell_type": "code",
      "source": [
        "from google.colab import drive\n",
        "drive.mount('/content/drive')\n",
        "\n",
        "pd.read_csv('/content/drive/MyDrive/weatherAUS.csv', encoding = \"latin-1\" )"
      ],
      "metadata": {
        "id": "7y0p-uYuy3uH"
      },
      "execution_count": null,
      "outputs": []
    },
    {
      "cell_type": "code",
      "source": [
        "import pandas as pd\n",
        "\n",
        "import json"
      ],
      "metadata": {
        "id": "VOiID0kg5ng-"
      },
      "execution_count": null,
      "outputs": []
    },
    {
      "cell_type": "code",
      "source": [
        "import plotly.express as px\n",
        "df[\"geoid\"] = df[\"geoid\"].astype(str).str.zfill(5)\n",
        "\n",
        "\n",
        "# load geojson from plotly github\n",
        "from urllib.request import urlopen\n",
        "with urlopen('https://raw.githubusercontent.com/plotly/datasets/master/geojson-counties-fips.json') as response:\n",
        "    counties = json.load(response)\n",
        "\n",
        "\n",
        "# Plot\n",
        "fig = px.choropleth(\n",
        "    df,\n",
        "    geojson=counties,\n",
        "    locations=\"geoid\",\n",
        "    color=\"plumbing\",\n",
        "    color_continuous_scale=\"Viridis\",\n",
        "    hover_name=\"name\",\n",
        "    scope=\"usa\"\n",
        ")\n",
        "fig.show()\n",
        "\n",
        "\n"
      ],
      "metadata": {
        "id": "6OfKK5i52pyA"
      },
      "execution_count": null,
      "outputs": []
    }
  ]
}